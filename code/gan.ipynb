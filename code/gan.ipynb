{
  "cells": [
    {
      "cell_type": "code",
      "execution_count": 1,
      "metadata": {
        "colab": {
          "base_uri": "https://localhost:8080/"
        },
        "id": "Co4s-SH_8kzV",
        "outputId": "ccf4967c-e7a7-4b09-bacd-5bf8c38bb984"
      },
      "outputs": [
        {
          "output_type": "stream",
          "name": "stdout",
          "text": [
            "Mounted at /content/drive/\n"
          ]
        }
      ],
      "source": [
        "import zipfile\n",
        "from google.colab import drive\n",
        "\n",
        "drive.mount('/content/drive/')"
      ]
    },
    {
      "cell_type": "code",
      "execution_count": null,
      "metadata": {
        "id": "y47tyenBKLCT"
      },
      "outputs": [],
      "source": [
        "#!unzip \"/content/drive/My Drive/Colab Notebooks/ds4440_data.zip\"\n",
        "!unzip \"/content/drive/MyDrive/DS4440_Project/preprocessed_images.zip\""
      ]
    },
    {
      "cell_type": "code",
      "execution_count": 3,
      "metadata": {
        "id": "USpUJJPvMwiF"
      },
      "outputs": [],
      "source": [
        "# Imports\n",
        "import pandas as pd\n",
        "import torch\n",
        "import os\n",
        "from PIL import Image\n",
        "from torch.utils.data import Dataset\n",
        "import torch.nn as nn\n",
        "import torch.optim as optim\n",
        "from torchvision import datasets, transforms\n",
        "import matplotlib.pyplot as plt\n",
        "import torch.nn.functional as F\n",
        "from torchvision.models import resnet50, ResNet50_Weights"
      ]
    },
    {
      "cell_type": "code",
      "execution_count": 32,
      "metadata": {
        "id": "l6XD1SXBaqP1",
        "colab": {
          "base_uri": "https://localhost:8080/",
          "height": 253
        },
        "outputId": "71a6d801-f9c2-41ef-8e21-051d6a576384"
      },
      "outputs": [
        {
          "output_type": "stream",
          "name": "stdout",
          "text": [
            "torch.Size([3, 28, 28])\n",
            "torch.Size([3, 28, 28])\n",
            "torch.Size([3, 28, 28])\n",
            "torch.Size([3, 28, 28])\n"
          ]
        },
        {
          "output_type": "display_data",
          "data": {
            "text/plain": [
              "<Figure size 1200x300 with 4 Axes>"
            ],
            "image/png": "[encoded data removed]"
          },
          "metadata": {}
        },
        {
          "output_type": "stream",
          "name": "stdout",
          "text": [
            "Labels: ('D', 'C', 'M', 'N')\n"
          ]
        }
      ],
      "source": [
        "# Tests that the Data is Properly Loaded by Printing\n",
        "def show_images(images):\n",
        "    fig, axs = plt.subplots(1, len(images), figsize=(12, 3))\n",
        "    for i, image in enumerate(images):\n",
        "        # Normalize image to [0, 1]\n",
        "        image = image - image.min()\n",
        "        image = image / image.max()\n",
        "        if image.shape[0] == 1:\n",
        "            axs[i].imshow(image.squeeze(), cmap='gray')\n",
        "        else:\n",
        "            axs[i].imshow(image.permute(1, 2, 0))\n",
        "        axs[i].axis('off')\n",
        "    plt.show()\n",
        "\n",
        "images, labels = next(iter(dataloader))\n",
        "show_images(images[:5])\n",
        "print(\"Labels:\", labels[:5])"
      ]
    },
    {
      "cell_type": "markdown",
      "source": [
        "## GAN\n",
        "\n",
        "Adapted Code from [gcastro-98/synthetic-medical-images](https://github.com/gcastro-98/synthetic-medical-images)\n",
        "\n"
      ],
      "metadata": {
        "id": "4XJkUSrBTgFw"
      }
    },
    {
      "cell_type": "code",
      "source": [
        "# Imports\n",
        "from torch import device\n",
        "from torch.cuda import is_available, device_count\n",
        "from torchvision.utils import save_image\n",
        "import numpy as np"
      ],
      "metadata": {
        "id": "inC4Zf7LjDo7"
      },
      "execution_count": null,
      "outputs": []
    },
    {
      "cell_type": "code",
      "source": [
        "# CONSTANTS\n",
        "\n",
        "DEVICE = device(\"cuda\" if is_available() else \"cpu\")  # (GPU if available)\n",
        "\n",
        "nz: int = 128  # length of latent vector\n",
        "ngf: int = 128  # depth of feature maps carried through the generator.\n",
        "ndf: int = 64  # depth of feature maps propagated through the discriminator\n",
        "nc: int = 3  # number of color channels (for color images = 3)\n",
        "# niter: int = NUM_EPOCHS BATCH_SIZE  # 300\n",
        "n_dnn: int = 64  # number of output features of the label's linear\n",
        "\n",
        "# Image and Label Constants\n",
        "IMAGE_SIZE: int = 64  # 128\n",
        "LABEL_TO_CLASS: dict = {\n",
        "    'N': 0,\n",
        "    'D': 1,\n",
        "    'G': 2,\n",
        "    'C': 3,\n",
        "    'A': 4,\n",
        "    'H': 5,\n",
        "    'M': 6,\n",
        "    'O': 7\n",
        "}\n",
        "LABEL_TO_TITLE: dict = {\n",
        "    'N': \"Normal\",\n",
        "    'D': \"Diabetes\",\n",
        "    'G': \"Galucoma\",\n",
        "    'C': \"Cataract\",\n",
        "    'A': \"Age related Macular Degeneration\",\n",
        "    'H': \"Hypertension\",\n",
        "    'M': \"Pathological Myopia\",\n",
        "    'O': \"Other diseases/abnormalities\"\n",
        "}\n",
        "CLASS_TO_LABEL: dict = {_v: _k for _k, _v in LABEL_TO_CLASS.items()}\n",
        "NUM_CLASSES: int = len(LABEL_TO_CLASS)\n",
        "\n",
        "# ---------------------\n",
        "# Training parameters\n",
        "# ---------------------\n",
        "BATCH_SIZE: int = 64 if IMAGE_SIZE == 64 else 32\n",
        "NUM_EPOCHS: int = 200\n",
        "\n",
        "# ---------------------\n",
        "# Hyperparameters\n",
        "# ---------------------\n",
        "# kept same hyperparameters as https://arxiv.org/pdf/1511.06434.pdf\n",
        "LEARNING_RATE: float = 0.0002\n",
        "BETA_1: float = 0.5"
      ],
      "metadata": {
        "id": "S0DMC-adcOVx"
      },
      "execution_count": 74,
      "outputs": []
    },
    {
      "cell_type": "code",
      "source": [
        "# Create CustomDataset Class\n",
        "class CustomDataset(Dataset):\n",
        "  def __init__(self, root_dir, label_file, transform=None):\n",
        "        self.root_dir = root_dir\n",
        "        self.label_file = label_file\n",
        "        self.transform = transform\n",
        "        self.labels_df = pd.read_csv(label_file)\n",
        "        self.image_files = os.listdir(root_dir)\n",
        "\n",
        "  def __len__(self):\n",
        "    return len(self.image_files)\n",
        "\n",
        "  def __getitem__(self, idx):\n",
        "        img_name = os.path.join(self.root_dir, self.image_files[idx])\n",
        "        image = Image.open(img_name).convert('RGB')\n",
        "        image = self.transform(image)\n",
        "\n",
        "        # Extract label from the label file\n",
        "        filename = self.image_files[idx]\n",
        "        label = self.labels_df.loc[self.labels_df['filename'] == filename]['labels'].item()\n",
        "        # Convert label to label class, to get index for encoding\n",
        "        label_ind = LABEL_TO_CLASS[label]\n",
        "        # one hot encoding for labels:\n",
        "        label_encoded = torch.zeros(NUM_CLASSES)\n",
        "        label_encoded[label_ind] = 1\n",
        "\n",
        "        return image, label_encoded"
      ],
      "metadata": {
        "id": "OzG9OMG3Tecy"
      },
      "execution_count": 92,
      "outputs": []
    },
    {
      "cell_type": "markdown",
      "source": [
        "### `synthetic-medical-images` GAN\n",
        "Structure and Code from [gcastro-98/synthetic-medical-images](https://github.com/gcastro-98/synthetic-medical-images):\n",
        "- `Generator64` Class\n",
        "- `Discriminator64` Class\n",
        "- `train_gan` method\n",
        "- `"
      ],
      "metadata": {
        "id": "FcrnrnJgjZgH"
      }
    },
    {
      "cell_type": "code",
      "source": [
        "class Generator(nn.Module):\n",
        "    def __init__(self):\n",
        "        assert IMAGE_SIZE == 64, \\\n",
        "            f\"This architecture is not suitable for IMAGE_SIZE = {IMAGE_SIZE}\"\n",
        "        super(Generator, self).__init__()\n",
        "\n",
        "        self.y_label = nn.Sequential(\n",
        "            nn.Linear(NUM_CLASSES, n_dnn),  # 120, 1000\n",
        "            nn.ReLU(True)\n",
        "        )\n",
        "\n",
        "        self.yz = nn.Sequential(\n",
        "            nn.Linear(nz, 2 * nz),  # 100, 200\n",
        "            nn.ReLU(True)\n",
        "        )\n",
        "\n",
        "        self.main = nn.Sequential(\n",
        "            nn.ConvTranspose2d(n_dnn + 2 * nz, ngf * 8, 4, 1, 0, bias=False),\n",
        "            nn.BatchNorm2d(ngf * 8),\n",
        "            nn.ReLU(True),\n",
        "            # state size. (ngf*8) x 4 x 4\n",
        "            nn.ConvTranspose2d(ngf * 8, ngf * 4, 4, 2, 1, bias=False),\n",
        "            nn.BatchNorm2d(ngf * 4),\n",
        "            nn.ReLU(True),\n",
        "            # state size. (ngf*4) x 8 x 8\n",
        "            nn.ConvTranspose2d(ngf * 4, ngf * 2, 4, 2, 1, bias=False),\n",
        "            nn.BatchNorm2d(ngf * 2),\n",
        "            nn.ReLU(True),\n",
        "            # state size. (ngf*2) x 16 x 16\n",
        "            nn.ConvTranspose2d(ngf * 2, ngf, 4, 2, 1, bias=False),\n",
        "            nn.BatchNorm2d(ngf),\n",
        "            nn.ReLU(True),\n",
        "            # state size. (ngf) x 32 x 32\n",
        "            nn.ConvTranspose2d(ngf, nc, 4, 2, 1, bias=False),\n",
        "            nn.Sigmoid()\n",
        "            # state size. (nc) x 64 x 64\n",
        "        )\n",
        "\n",
        "    def forward(self, z, y):\n",
        "        # mapping noise and label\n",
        "        z = self.yz(z)\n",
        "        y = self.y_label(y)\n",
        "\n",
        "        # mapping concatenated input to the main generator network\n",
        "        inp = torch.cat([z, y], 1)\n",
        "        inp = inp.view(-1, n_dnn + 2 * nz, 1, 1)  # 1000 + 200\n",
        "        output = self.main(inp)\n",
        "\n",
        "        return output\n",
        "\n",
        "\n",
        "class Discriminator(nn.Module):\n",
        "    def __init__(self):\n",
        "        assert IMAGE_SIZE == 64, \\\n",
        "            f\"This architecture is not suitable for IMAGE_SIZE = {IMAGE_SIZE}\"\n",
        "        super(Discriminator, self).__init__()\n",
        "        # self.ngpu = _ngpu\n",
        "        self.y_label = nn.Sequential(\n",
        "            nn.Linear(NUM_CLASSES, 64 * 64 * 1),\n",
        "            nn.ReLU(True)\n",
        "        )\n",
        "\n",
        "        self.main = nn.Sequential(\n",
        "            # input is (nc) x 64 x 64\n",
        "            nn.Conv2d(nc + 1, ndf, 4, 2, 1, bias=False),\n",
        "            nn.LeakyReLU(0.2, inplace=True),\n",
        "            # state size. (ndf) x 32 x 32\n",
        "            nn.Conv2d(ndf, ndf * 2, 4, 2, 1, bias=False),\n",
        "            nn.BatchNorm2d(ndf * 2),\n",
        "            nn.LeakyReLU(0.2, inplace=True),\n",
        "            # state size. (ndf*2) x 16 x 16\n",
        "            nn.Conv2d(ndf * 2, ndf * 4, 4, 2, 1, bias=False),\n",
        "            nn.BatchNorm2d(ndf * 4),\n",
        "            nn.LeakyReLU(0.2, inplace=True),\n",
        "            # state size. (ndf*4) x 8 x 8\n",
        "            nn.Conv2d(ndf * 4, ndf * 8, 4, 2, 1, bias=False),\n",
        "            nn.BatchNorm2d(ndf * 8),\n",
        "            nn.LeakyReLU(0.2, inplace=True),\n",
        "            # state size. (ndf*8) x 4 x 4\n",
        "            nn.Conv2d(ndf * 8, 1, 4, 1, 0, bias=False),\n",
        "            nn.Sigmoid()\n",
        "        )\n",
        "\n",
        "    def forward(self, x, y):\n",
        "        y = self.y_label(y)\n",
        "        y = y.view(-1, 1, 64, 64)\n",
        "        inp = torch.cat([x, y], 1)\n",
        "        output = self.main(inp)\n",
        "\n",
        "        return output.view(-1, 1).squeeze(1)"
      ],
      "metadata": {
        "id": "dtrPWw45jYNq"
      },
      "execution_count": null,
      "outputs": []
    },
    {
      "cell_type": "code",
      "source": [
        "def __generate_random_noise():\n",
        "    return torch.randn(BATCH_SIZE, nz, device=DEVICE)\n",
        "\n",
        "\n",
        "def __generate_random_labels():\n",
        "    label = torch.zeros(BATCH_SIZE, NUM_CLASSES, device=DEVICE)\n",
        "    for i in range(BATCH_SIZE):\n",
        "        x = np.random.randint(0, NUM_CLASSES)\n",
        "        label[i][x] = 1\n",
        "    return label\n",
        "\n",
        "_checkpoint_noise = __generate_random_noise()\n",
        "_checkpoint_labels = __generate_random_labels()"
      ],
      "metadata": {
        "id": "Z3Jhn1FzYF-H"
      },
      "execution_count": 91,
      "outputs": []
    },
    {
      "cell_type": "code",
      "source": [
        "def _plot_losses(g_losses, d_losses,\n",
        "                 _show: bool = False) -> None:\n",
        "    plt.figure(figsize=(10, 5))\n",
        "    plt.title(\"Generator and Discriminator Loss During Training\")\n",
        "    plt.plot(g_losses, label=\"Generator\")\n",
        "    plt.plot(d_losses, label=\"Discriminator\")\n",
        "    plt.xlabel(\"iterations\")\n",
        "    plt.ylabel(\"Loss\")\n",
        "    plt.legend()\n",
        "    plt.savefig(os.path.join('.img', 'losses.png'), dpi=200)\n",
        "    if _show:\n",
        "        plt.show()\n",
        "    plt.close()"
      ],
      "metadata": {
        "id": "rmrdWTgVYYvA"
      },
      "execution_count": 90,
      "outputs": []
    },
    {
      "cell_type": "code",
      "source": [
        "def train_gan(\n",
        "        data_loader, use_cpu: bool = False,\n",
        "        save_best_model: bool = True, save_generated_images: bool = True,\n",
        "        verbose: bool = False, _freq: int = 5):\n",
        "    #DEVICE = device('cpu') if use_cpu else _DEVICE\n",
        "    # initialize (with weights) generator and discriminator\n",
        "    net_g = Generator().to(DEVICE)\n",
        "    #net_g.apply(weights_init)\n",
        "    net_d = Discriminator().to(DEVICE)\n",
        "    #net_d.apply(weights_init)\n",
        "\n",
        "    # loss function and optimizers\n",
        "    criterion = nn.BCELoss()  # we are simply detecting whether it's real/fake\n",
        "\n",
        "    real_label = float(1)\n",
        "    fake_label = float(0)\n",
        "\n",
        "    # setup optimizer\n",
        "    optimizer_d = optim.Adam(\n",
        "        net_d.parameters(), lr=LEARNING_RATE, betas=(BETA_1, 0.999))\n",
        "    optimizer_g = optim.Adam(\n",
        "        net_g.parameters(), lr=LEARNING_RATE, betas=(BETA_1, 0.999))\n",
        "    d_error_epoch = []\n",
        "    g_error_epoch = []\n",
        "\n",
        "    for epoch in range(NUM_EPOCHS):\n",
        "        # we will start iterating each batch element\n",
        "        d_error_iter = 0\n",
        "        g_error_iter = 0\n",
        "        for i, data in enumerate(data_loader, 0):\n",
        "            # DISCRIMINATOR\n",
        "            # train with real\n",
        "            net_d.zero_grad()\n",
        "            real_cpu = data[0].to(DEVICE)\n",
        "            batch_size = real_cpu.size(0)\n",
        "            pathology_one_hot = data[1].to(DEVICE)\n",
        "            label = torch.full((batch_size, ), real_label, device=DEVICE)\n",
        "\n",
        "            output = net_d(real_cpu, pathology_one_hot)\n",
        "            err_d_real = criterion(output, label)\n",
        "            err_d_real.backward()\n",
        "            # D_x = output.mean().item()\n",
        "\n",
        "            # train with fake\n",
        "            noise = torch.randn(batch_size, nz, device=DEVICE)\n",
        "            fake = net_g(noise, pathology_one_hot)\n",
        "            label.fill_(fake_label)\n",
        "            output = net_d(fake.detach(), pathology_one_hot)\n",
        "            err_d_fake = criterion(output, label)\n",
        "            err_d_fake.backward()\n",
        "            # D_G_z1 = output.mean().item()\n",
        "            err_d = err_d_real + err_d_fake\n",
        "            d_error_iter += err_d.item()\n",
        "            optimizer_d.step()\n",
        "\n",
        "            # GENERATOR\n",
        "            net_g.zero_grad()\n",
        "            label.fill_(real_label)  # fake labels are real for generator cost\n",
        "            output = net_d(fake, pathology_one_hot)\n",
        "            err_g = criterion(output, label)\n",
        "            g_error_iter += err_g.item()\n",
        "            err_g.backward()\n",
        "            # D_G_z2 = output.mean().item()\n",
        "            optimizer_g.step()\n",
        "\n",
        "            if (i + 1) % (BATCH_SIZE // 4) == 0 and verbose:\n",
        "                # we print the losses\n",
        "                _counter = f\"Epoch [{epoch}/{NUM_EPOCHS}]\" \\\n",
        "                           f\"[{i}/{len(data_loader)}]\"\n",
        "                print(f\"{_counter} --- Loss G: {err_g.item()}\")\n",
        "                print(f\"{_counter} --- Loss D: {err_d.item()}\")\n",
        "\n",
        "        if (epoch + 1) % _freq == 0:\n",
        "            # we save generated images\n",
        "            with torch.no_grad():\n",
        "                if save_generated_images:\n",
        "                    print(\n",
        "                        \"CHECKPOINT: saving some generated images at 'output/' directory\")\n",
        "                    checkpoint_images = net_g(\n",
        "                        _checkpoint_noise, _checkpoint_labels)\n",
        "                    # we re-scale generated images to [0, 1] and save them\n",
        "                    save_image((checkpoint_images + 1) / 2,\n",
        "                               f\"output/epoch_{epoch + 1}.png\", nrow=8, normalize=True)\n",
        "\n",
        "            # save models as checkpoint\n",
        "            if save_best_model:\n",
        "                print(\"CHECKPOINT: saving the trained\"\n",
        "                             f\" models at 'models/' directory\")\n",
        "                torch.save(net_g.state_dict(),\n",
        "                           \"models/generator.pth\")\n",
        "                torch.save(net_d.state_dict(),\n",
        "                           \"models/discriminator.pth\")\n",
        "\n",
        "        # accumulate error for each epoch\n",
        "        d_error_epoch.append(d_error_iter)\n",
        "        g_error_epoch.append(g_error_iter)\n",
        "\n",
        "    _plot_losses(g_error_epoch, d_error_epoch)\n",
        "\n",
        "    # save the trained generator\n",
        "    torch.save(net_g.state_dict(),\n",
        "               \"models/generator.pth\")\n",
        "    # as well as the trained discriminator\n",
        "    torch.save(net_d.state_dict(),\n",
        "               \"models/discriminator.pth\")\n",
        "\n",
        "    return net_g, net_d"
      ],
      "metadata": {
        "id": "fL_v7cGGUul3"
      },
      "execution_count": 89,
      "outputs": []
    },
    {
      "cell_type": "code",
      "source": [
        "def plot_fake_images(\n",
        "        generator, n_images: int = 9, _show: bool = False) -> None:\n",
        "    cols, rows = 3, 3\n",
        "    fig, axs = plt.subplots(rows, cols, sharex='all')\n",
        "    axs = axs.flatten()\n",
        "\n",
        "    gen_z, label, _label_names = __generate_random_inputs(n_images)\n",
        "    gen_images = generator(gen_z, label)\n",
        "    images = gen_images.to(\"cpu\").clone().detach()\n",
        "    images = images.numpy().transpose(0, 2, 3, 1)\n",
        "\n",
        "    for i in range(9):\n",
        "        axs[i].set_title(_label_names[i])\n",
        "        axs[i].set_axis_off()\n",
        "        axs[i].imshow(images[i])\n",
        "    plt.tight_layout(pad=1.04)\n",
        "    plt.savefig(os.path.join('.img', 'fake_samples.png'), dpi=200)\n",
        "    if _show:\n",
        "        plt.show()\n",
        "    plt.close()\n",
        "\n",
        "def __generate_random_inputs(n_images: int):\n",
        "    gen_z = torch.randn(n_images, nz, device=DEVICE)\n",
        "    label = torch.zeros(n_images, NUM_CLASSES, device=DEVICE)\n",
        "    _label_names = []\n",
        "    for i in range(n_images):\n",
        "        x = np.random.randint(0, NUM_CLASSES)\n",
        "        label[i][x] = 1\n",
        "        _label_names.append(LABEL_TO_TITLE[CLASS_TO_LABEL[x]])\n",
        "    return gen_z, label, _label_names"
      ],
      "metadata": {
        "id": "qSd-gUGYZCWo"
      },
      "execution_count": 67,
      "outputs": []
    },
    {
      "cell_type": "code",
      "source": [
        "transform = transforms.Compose([\n",
        "    transforms.Resize((64, 64)),\n",
        "    transforms.ToTensor(),\n",
        "    transforms.Normalize((0.5,), (0.5,))\n",
        "])\n",
        "\n",
        "dataset = CustomDataset(root_dir='/content/preprocessed_images', label_file='/content/drive/MyDrive/DS4440_Project/odir_labels.csv', transform=transform)\n",
        "dataloader = torch.utils.data.DataLoader(dataset, batch_size=BATCH_SIZE, shuffle=True)"
      ],
      "metadata": {
        "id": "ryKRfqa8a8Wf"
      },
      "execution_count": 87,
      "outputs": []
    },
    {
      "cell_type": "code",
      "source": [
        "generator, discriminator = train_gan(dataloader)\n",
        "plot_fake_images(generator, _show=False)"
      ],
      "metadata": {
        "colab": {
          "base_uri": "https://localhost:8080/"
        },
        "id": "jRiIj6xnZKBU",
        "outputId": "e6642fd2-bae6-47e8-f76a-82db83df6496"
      },
      "execution_count": null,
      "outputs": [
        {
          "output_type": "stream",
          "name": "stdout",
          "text": [
            "CHECKPOINT: saving some generated images at 'output/' directory\n",
            "CHECKPOINT: saving the trained models at 'models/' directory\n",
            "CHECKPOINT: saving some generated images at 'output/' directory\n",
            "CHECKPOINT: saving the trained models at 'models/' directory\n",
            "CHECKPOINT: saving some generated images at 'output/' directory\n",
            "CHECKPOINT: saving the trained models at 'models/' directory\n",
            "CHECKPOINT: saving some generated images at 'output/' directory\n",
            "CHECKPOINT: saving the trained models at 'models/' directory\n",
            "CHECKPOINT: saving some generated images at 'output/' directory\n",
            "CHECKPOINT: saving the trained models at 'models/' directory\n",
            "CHECKPOINT: saving some generated images at 'output/' directory\n",
            "CHECKPOINT: saving the trained models at 'models/' directory\n",
            "CHECKPOINT: saving some generated images at 'output/' directory\n",
            "CHECKPOINT: saving the trained models at 'models/' directory\n",
            "CHECKPOINT: saving some generated images at 'output/' directory\n",
            "CHECKPOINT: saving the trained models at 'models/' directory\n",
            "CHECKPOINT: saving some generated images at 'output/' directory\n",
            "CHECKPOINT: saving the trained models at 'models/' directory\n",
            "CHECKPOINT: saving some generated images at 'output/' directory\n",
            "CHECKPOINT: saving the trained models at 'models/' directory\n",
            "CHECKPOINT: saving some generated images at 'output/' directory\n",
            "CHECKPOINT: saving the trained models at 'models/' directory\n",
            "CHECKPOINT: saving some generated images at 'output/' directory\n",
            "CHECKPOINT: saving the trained models at 'models/' directory\n",
            "CHECKPOINT: saving some generated images at 'output/' directory\n",
            "CHECKPOINT: saving the trained models at 'models/' directory\n",
            "CHECKPOINT: saving some generated images at 'output/' directory\n",
            "CHECKPOINT: saving the trained models at 'models/' directory\n",
            "CHECKPOINT: saving some generated images at 'output/' directory\n",
            "CHECKPOINT: saving the trained models at 'models/' directory\n",
            "CHECKPOINT: saving some generated images at 'output/' directory\n",
            "CHECKPOINT: saving the trained models at 'models/' directory\n",
            "CHECKPOINT: saving some generated images at 'output/' directory\n",
            "CHECKPOINT: saving the trained models at 'models/' directory\n",
            "CHECKPOINT: saving some generated images at 'output/' directory\n",
            "CHECKPOINT: saving the trained models at 'models/' directory\n",
            "CHECKPOINT: saving some generated images at 'output/' directory\n",
            "CHECKPOINT: saving the trained models at 'models/' directory\n",
            "CHECKPOINT: saving some generated images at 'output/' directory\n",
            "CHECKPOINT: saving the trained models at 'models/' directory\n",
            "CHECKPOINT: saving some generated images at 'output/' directory\n",
            "CHECKPOINT: saving the trained models at 'models/' directory\n",
            "CHECKPOINT: saving some generated images at 'output/' directory\n",
            "CHECKPOINT: saving the trained models at 'models/' directory\n",
            "CHECKPOINT: saving some generated images at 'output/' directory\n",
            "CHECKPOINT: saving the trained models at 'models/' directory\n",
            "CHECKPOINT: saving some generated images at 'output/' directory\n",
            "CHECKPOINT: saving the trained models at 'models/' directory\n",
            "CHECKPOINT: saving some generated images at 'output/' directory\n",
            "CHECKPOINT: saving the trained models at 'models/' directory\n",
            "CHECKPOINT: saving some generated images at 'output/' directory\n",
            "CHECKPOINT: saving the trained models at 'models/' directory\n",
            "CHECKPOINT: saving some generated images at 'output/' directory\n",
            "CHECKPOINT: saving the trained models at 'models/' directory\n",
            "CHECKPOINT: saving some generated images at 'output/' directory\n",
            "CHECKPOINT: saving the trained models at 'models/' directory\n",
            "CHECKPOINT: saving some generated images at 'output/' directory\n",
            "CHECKPOINT: saving the trained models at 'models/' directory\n",
            "CHECKPOINT: saving some generated images at 'output/' directory\n",
            "CHECKPOINT: saving the trained models at 'models/' directory\n",
            "CHECKPOINT: saving some generated images at 'output/' directory\n",
            "CHECKPOINT: saving the trained models at 'models/' directory\n"
          ]
        }
      ]
    },
    {
      "cell_type": "code",
      "execution_count": 16,
      "metadata": {
        "id": "kzWGcPP5dhDV"
      },
      "outputs": [],
      "source": [
        "# Pretrained ViT for Image Classification\n",
        "weights = ResNet50_Weights.DEFAULT\n",
        "model = resnet50(weights=weights)\n",
        "model.eval()"
      ]
    }
  ],
  "metadata": {
    "colab": {
      "provenance": [],
      "gpuType": "T4"
    },
    "kernelspec": {
      "display_name": "Python 3",
      "name": "python3"
    },
    "language_info": {
      "name": "python"
    },
    "accelerator": "GPU"
  },
  "nbformat": 4,
  "nbformat_minor": 0
}